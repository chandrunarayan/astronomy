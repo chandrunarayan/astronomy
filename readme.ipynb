{
 "cells": [
  {
   "cell_type": "markdown",
   "id": "812dd804-ffb7-4109-99ca-b040168af3b1",
   "metadata": {},
   "source": [
    "## This is the workshops repository for projects in the Astronomy classroom\n",
    "\n",
    "Project|Topic Description\n",
    "---|---\n",
    "1|<a href=\"https://chandrunarayan.github.io/astronomy/projects/simple_line_plots\" target=\"_blank\">Markdown LaTeX Python Plotting</a>\n",
    "2|<a href=\"https://chandrunarayan.github.io/astronomy/projects/calculate_sun_dia\" target=\"_blank\">Measure the Diameter of the Sun</a>\n",
    "3|<a href=\"https://chandrunarayan.github.io/astronomy/projects/calculate_atom_dia\" target=\"_blank\">Measure the Diameter of an Atom</a>\n",
    "4|<a href=\"https://chandrunarayan.github.io/astronomy/projects/singing_black_hole\" target=\"_blank\">Singing Black Hole</a>\n",
    "5|<a href=\"https://chandrunarayan.github.io/astronomy/projects/calculate_earth_dia\" target=\"_blank\">Measure the Diameter of the Earth</a>\n",
    "6|<a href=\"https://chandrunarayan.github.io/astronomy/projects/keplerian_orbits\" target=\"_blank\">Kepler's Laws & Keplerian Orbits</a>\n",
    "7|<a href=\"https://chandrunarayan.github.io/astronomy/projects/measure_light_speed\" target=\"_blank\">Measure Light Speed</a>\n",
    "8|<a href=\"https://chandrunarayan.github.io/astronomy/projects/seasons_simulator\" target=\"_blank\">Earth Seasons Simulator</a>\n"
   ]
  }
 ],
 "metadata": {
  "kernelspec": {
   "display_name": "Python 3 (ipykernel)",
   "language": "python",
   "name": "python3"
  },
  "language_info": {
   "codemirror_mode": {
    "name": "ipython",
    "version": 3
   },
   "file_extension": ".py",
   "mimetype": "text/x-python",
   "name": "python",
   "nbconvert_exporter": "python",
   "pygments_lexer": "ipython3",
   "version": "3.9.13"
  }
 },
 "nbformat": 4,
 "nbformat_minor": 5
}
