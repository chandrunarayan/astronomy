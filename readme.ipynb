{
 "cells": [
  {
   "cell_type": "markdown",
   "id": "812dd804-ffb7-4109-99ca-b040168af3b1",
   "metadata": {},
   "source": [
    "## This is the workshops repository for projects in the Astronomy classroom\n",
    "\n",
    "Project|Topic Description\n",
    "---|---\n",
    "0|<a href=\"https://chandrunarayan.github.io/astronomy/projects/intro_to_jupyter\" target=\"_blank\">Introduction to Jupyter Notebooks Markdown and Python</a>\n",
    "1|<a href=\"https://chandrunarayan.github.io/astronomy/projects/calculate_sun_dia\" target=\"_blank\">Measure the Diameter of the Sun</a>\n",
    "2|<a href=\"https://chandrunarayan.github.io/astronomy/projects/calculate_atom_dia\" target=\"_blank\">Measure the Diameter of an Atom & Powers of 10</a>\n",
    "3|<a href=\"https://chandrunarayan.github.io/astronomy/projects/singing_black_hole\" target=\"_blank\">Singing Black Hole & LaTeX syntax</a>\n",
    "4|<a href=\"https://chandrunarayan.github.io/astronomy/projects/calculate_earth_dia\" target=\"_blank\">Eratosthenes & Diameter of the Earth</a>\n",
    "5|<a href=\"https://chandrunarayan.github.io/astronomy/projects/simple_line_plots\" target=\"_blank\">Line & Scatter Plotting in Jupyter Notebook</a>\n",
    "6|<a href=\"https://chandrunarayan.github.io/astronomy/projects/seasons_simulator\" target=\"_blank\">Earth Seasons Axis Tilt & Sun Angles</a>\n",
    "7|<a href=\"https://chandrunarayan.github.io/astronomy/projects/keplerian_orbits\" target=\"_blank\">Kepler's Laws & Non-linear Funtions</a>\n",
    "8|<a href=\"https://chandrunarayan.github.io/astronomy/projects/exoplanet_discovery\" target=\"_blank\">Discover Exoplanets & Measure their Light Curves</a>\n",
    "9|<a href=\"https://chandrunarayan.github.io/astronomy/projects/star_magnitudes\" target=\"_blank\">Star Magnitudes & Logarithms</a>\n",
    "10|<a href=\"https://chandrunarayan.github.io/astronomy/projects/cluster_hrd\" target=\"_blank\">Hertzsprung Russell Diagrams & Exponentials</a>\n"
   ]
  }
 ],
 "metadata": {
  "kernelspec": {
   "display_name": "Python 3 (ipykernel)",
   "language": "python",
   "name": "python3"
  },
  "language_info": {
   "codemirror_mode": {
    "name": "ipython",
    "version": 3
   },
   "file_extension": ".py",
   "mimetype": "text/x-python",
   "name": "python",
   "nbconvert_exporter": "python",
   "pygments_lexer": "ipython3",
   "version": "3.9.13"
  }
 },
 "nbformat": 4,
 "nbformat_minor": 5
}
