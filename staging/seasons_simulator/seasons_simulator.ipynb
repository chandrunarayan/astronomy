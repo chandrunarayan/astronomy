{
 "cells": [
  {
   "cell_type": "markdown",
   "id": "c27562e1-4d6c-4285-9190-6d6c417c73d9",
   "metadata": {},
   "source": [
    "## Please add your Markdown, LaTeX and Python cells to illustrate sun angles and seasons in your selected cities"
   ]
  },
  {
   "cell_type": "markdown",
   "id": "a06b3780-ea75-4b4e-9330-b7f086b0d523",
   "metadata": {},
   "source": [
    "### Make sure to add tables with sun angles, seasons simulator images for the 4 cities anf 4 events, links, images, videos about your favourite cities"
   ]
  },
  {
   "cell_type": "markdown",
   "id": "f900c14c-bac4-4441-96c4-27f26988d254",
   "metadata": {},
   "source": [
    "### See Examples below"
   ]
  },
  {
   "cell_type": "markdown",
   "id": "4ea1ba41-2abb-4cec-b527-73be6642377c",
   "metadata": {},
   "source": [
    "### My favorite city to visit is Luchon, France as I love to ride my bicycle in the mountains there"
   ]
  },
  {
   "cell_type": "markdown",
   "id": "06fb4808-8bab-4b4d-91bf-0aaaa2fca685",
   "metadata": {},
   "source": [
    "![pic1](pic1.png)\n",
    "![pic2](pic2.png)"
   ]
  },
  {
   "cell_type": "markdown",
   "id": "ea4f00b4-528c-4e42-9d11-c1bdf69f9ffe",
   "metadata": {},
   "source": [
    "### Here is a video of me riding to the top of Luchon - Super Bagneres a ski resort"
   ]
  },
  {
   "cell_type": "code",
   "execution_count": null,
   "id": "4b37a498-1446-4386-8b17-6ba453ac1c58",
   "metadata": {},
   "outputs": [],
   "source": [
    "from IPython.display import YouTubeVideo\n",
    "YouTubeVideo('lp8ZycRwbHE')"
   ]
  },
  {
   "cell_type": "markdown",
   "id": "48099586-8997-4119-a5f1-8150b31ee9b7",
   "metadata": {},
   "source": [
    "---\n",
    "My favorite city: [Luchon, France](https://www.google.com/maps/place/31110+Bagn%C3%A8res-de-Luchon,+France/@42.6279883,-0.0786493,8.83z/data=!4m5!3m4!1s0x12a861f104f68b5b:0x387ece5e3eeee589!8m2!3d42.788963!4d0.592943).  It's in the Northern Hemisphere\n",
    "\n",
    "Lattitude and Longitude: $$42^{o}47^{'} N, \\space 0^o{35}^{'} E$$\n",
    "\n",
    "---"
   ]
  },
  {
   "cell_type": "code",
   "execution_count": null,
   "id": "d1f361a7-f9b8-4987-bd2a-bb9318b9c00e",
   "metadata": {},
   "outputs": [],
   "source": [
    "## Calculations for Sun Angle\n",
    "import numpy as np\n",
    "\n",
    "mycity_lattitude = 100 # THIS IS A PLACEHOLDER INCORRECT NUMBER - FIX THIS!!\n",
    "subsolar_point_equinoxes = 100 # THIS IS A PLACEHOLDER INCORRECT NUMBER - FIX THIS!!\n",
    "subsolar_point_june_solstice = +100 # THIS IS A PLACEHOLDER INCORRECT NUMBER - FIX THIS!!\n",
    "subsolar_point_december_solstice = -100 # THIS IS A PLACEHOLDER INCORRECT NUMBER - FIX THIS!!\n",
    "zenith_angle_equinoxes = np.abs(mycity_lattitude) # THIS IS A INCORRECT PLACEHOLDER - ADD THE CORRECT EQUATION FOR ZENITH ANGLE\n",
    "zenith_angle_june = np.abs(mycity_lattitude) # THIS IS A INCORRECT PLACEHOLDER - ADD THE EQUATION FOR ZENITH ANGLE\n",
    "zenith_angle_december = np.abs(mycity_lattitude) # THIS IS A INCORRECT PLACEHOLDER - ADD THE EQUATION FOR ZENITH ANGLE\n",
    "noon_sun_angle_equinoxes = 90 - zenith_angle_equinoxes\n",
    "noon_sun_angle_june = 90 - zenith_angle_june\n",
    "noon_sun_angle_december = 90 - zenith_angle_december\n",
    "print(\"Luchon noon_sun_angle_equinoxes %3.2f deg\" % noon_sun_angle_equinoxes)\n",
    "print(\"Luchon summer solstice %3.2f deg\" % noon_sun_angle_june)\n",
    "print(\"Luchon winter solstice %3.2f deg\" % noon_sun_angle_december)"
   ]
  },
  {
   "cell_type": "markdown",
   "id": "6c1184b0-093c-4d41-81f8-c176c8cac109",
   "metadata": {},
   "source": [
    "Season|Noon Sun Angle|Simulator\n",
    "---|:---:|:---\n",
    "Vernal Equinox|$$-10.0^o$$|[pic3](pic3.png)\n",
    "Summer Solsctice|$$-10.0^o$$|[pic4](pic4.png)\n",
    "Autumnal Equinox|$$-10.0^o$$|[pic5](pic5.png)\n",
    "Winter Solsctice|$$-10.0^o$$|[pic6](pic6.png)\n"
   ]
  },
  {
   "cell_type": "code",
   "execution_count": null,
   "id": "28b3e970-5fe6-4f62-a1c3-d62ddc16a47e",
   "metadata": {},
   "outputs": [],
   "source": []
  }
 ],
 "metadata": {
  "kernelspec": {
   "display_name": "Python 3 (ipykernel)",
   "language": "python",
   "name": "python3"
  },
  "language_info": {
   "codemirror_mode": {
    "name": "ipython",
    "version": 3
   },
   "file_extension": ".py",
   "mimetype": "text/x-python",
   "name": "python",
   "nbconvert_exporter": "python",
   "pygments_lexer": "ipython3",
   "version": "3.9.13"
  }
 },
 "nbformat": 4,
 "nbformat_minor": 5
}
