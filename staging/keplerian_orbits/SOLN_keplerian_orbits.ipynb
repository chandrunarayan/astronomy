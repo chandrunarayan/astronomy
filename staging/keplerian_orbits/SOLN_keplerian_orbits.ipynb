{
 "cells": [
  {
   "cell_type": "markdown",
   "metadata": {},
   "source": [
    "## Who is Johannes Kepler ? What's his 3rd Law?\n",
    "\n",
    "\n",
    "\n",
    "\n",
    "<img src=\"jkepler.png\" align=\"left\" width=300px />\n",
    "\n",
    "\n",
    "Johannes Kepler was born into a poor family in the German province of Württemberg and lived much of his\n",
    "life amid the turmoil of the Thirty Years’ War. He attended university at Tubingen and studied\n",
    "for a theological career. There, he learned the principles of the Copernican system and became converted to the heliocentric hypothesis. Eventually, Kepler went to Prague to serve as an assistant to Brahe, who set him to work trying to find a satisfactory theory of planetary motion—one that was compatible with the long series of observations made at Hven. Brahe was reluctant to provide Kepler with much material at any one time for fear that Kepler would discover the secrets of the universal motion by himself, thereby robbing Brahe of some of the glory. Only after Brahe’s death in 1601 did Kepler get full possession of the priceless records. Their study\n",
    "occupied most of Kepler’s time for more than 20 years.\n",
    "\n",
    "\n",
    "Through his analysis of the motions of the planets, Kepler developed a series of principles, now known as\n",
    "Kepler’s three laws, which described the behavior of planets based on their paths through space. The first two laws of planetary motion were published in 1609 in The New Astronomy. Their discovery was a profound step in the development of modern science.\n",
    "\n",
    "<br clear=\"left\"/>\n",
    "\n",
    "**Kepler’s Third Law**\n",
    "\n",
    "A planet’s orbital period squared is proportional to the semimajor axis of\n",
    "its orbit cubed\n",
    "$$P^2 ∝ a^3$$\n",
    "\n",
    "or when we use units of years for P and AU for a, we get\n",
    "\n",
    "$$P^2 = a^3$$\n",
    "\n",
    "Using the orbital periods and semi-major axes for Venus and Earth that are provided here, verify that they obey Kepler’s third law. Venus’ orbital period is 0.62 year, and its semi-major\n",
    "axis is 0.72 AU. Earth’s orbital period is 1.00 year, and its semi-major axis is 1.00 AU.\n",
    "\n",
    "\n",
    "**Solution**\n",
    "\n",
    "For Venus, $$P^2 = 0.62 \\times 0.62 = 0.38\\ and\\ a^3 = 0.72\\ \\times 0.72\\  \\times 0.72 = 0.37$$ (rounding numbers sometimes causes minor discrepancies like this). The square of the\n",
    "orbital period (0.38) approximates the cube of the semi-major axis (0.37). Therefore, Venus obeys Kepler’s\n",
    "third law. \n",
    "\n",
    "For Earth, $$ P^2 = 1.00 \\times\\ 1.00 = 1.00 \\ and \\ a^3 = 1.00 \\times 1.00 \\times 1.00 = 1.00 $$ The square of the orbital\n",
    "period (1.00) approximates (in this case, equals) the cube of the semi-major axis (1.00). Therefore, Earth\n",
    "obeys Kepler’s third law.\n",
    "\n",
    "\n",
    "**Check Your Learning**\n",
    "\n",
    "Using the orbital periods and semimajor axes for Saturn and Jupiter that are provided here, verify that they obey Kepler’s third law. Saturn’s orbital period is 29.46 years, and its\n",
    "semimajor axis is 9.54 AU. Jupiter’s orbital period is 11.86 years, and its semimajor axis is 5.20 AU.  Do this by adding code cells below!"
   ]
  },
  {
   "cell_type": "markdown",
   "metadata": {
    "id": "3JDakeShaAQH"
   },
   "source": [
    "# Kepler's Laws Activity\n",
    "This coding activity let's us explore some data gathered by the [Kepler spacecraft](https://archive.stsci.edu/missions-and-data/kepler) of a single set of planets orbiting a star a lot like the sun.\n",
    "\n",
    "<img src=\"kepler-11b.png\" width=650 />\n",
    "\n",
    "The Kepler Spacecraft has help uncovered many exoplanets. When a planet passes in front of the host star, the Kepler photometer and camera measure the tiny drop in light. We are going to explore one of these planetary systems.  With the data about an exoplanetary system, you must determine the approximate mass of the central star of the system. The units given are in terms of astronomical units and days. You should report the mass of the star in solar mass units. In other words what factor of the sun's mass is this star?\n",
    "\n",
    "<img src=\"kepler-11-system.png\" width=650 />\n",
    "\n",
    "\n",
    "The planetary data (period, T, in days and average distance from the star, a, in AU) is given in the table linked below. The period, T, is given in Earth days (not Earth years!) and the semi-major axis, a, is given in astronomical units. Using Kepler’s 3rd law of planetary motion, linearize the data with appropriate units to determine the mass of the central star of the given system as a ratio of solar mass. \n",
    "\n"
   ]
  },
  {
   "cell_type": "code",
   "execution_count": 1,
   "metadata": {
    "id": "6No7X6TC9KNo"
   },
   "outputs": [],
   "source": [
    "# Import modules that contain functions we need\n",
    "import pandas as pd # pandas is common for data science\n",
    "import numpy as np #N umPy is used a lot in science\n",
    "import math # we need the math class for pi\n",
    "%matplotlib inline \n",
    "import matplotlib.pyplot as plt # MatPlotLib is the plotting standard\n",
    "import seaborn as sns # makes regression plot easy\n",
    "from scipy import stats # lets us do a linear regression"
   ]
  },
  {
   "cell_type": "markdown",
   "metadata": {
    "id": "z72DEuJGVg7F"
   },
   "source": [
    "## Constants\n",
    "The distance from the Earth to the Sun is known as an astromical unit but we will need to convert those distances to meters. The constant, G, is the universal gravitational constant. We will also need the mass of the sun in kilograms to round out our dependence on SI units.\n",
    "$$\n",
    "d_{au}=1.5\\times10^{11} \\mathrm{m }\\space \\\\\n",
    "G=6.67\\times10^{-11} \\mathrm{Nm^2/kg^2 } \\\\\n",
    "M_{sun}=1.989\\times10^{30} \\mathrm{kg}\n",
    "$$\n"
   ]
  },
  {
   "cell_type": "markdown",
   "metadata": {
    "tags": []
   },
   "source": [
    "# Task 1 - Setup Constants and read in Kepler System Data"
   ]
  },
  {
   "cell_type": "code",
   "execution_count": 2,
   "metadata": {
    "id": "xUfovvQpLYJN"
   },
   "outputs": [],
   "source": [
    "# Type the constants here.\n",
    "# Example: 3*10^8 in Python would be 3e8\n",
    "d_au = 1.5e11 #type_in_constants_here\n",
    "G = 6.67e-11 #type_in_constants_here\n",
    "m_sun = 1.989e30 #type_in_constants_here"
   ]
  },
  {
   "cell_type": "markdown",
   "metadata": {
    "id": "cwT7EtBIX6P8"
   },
   "source": [
    "## Kepler Exoplanet Data\n",
    "This dataset is based on the discovery of an exolplanet system by the Kepler Spacecraft, named after Johannes Kepler, who, in the seventeenth century, determined the planetary motion relationships using data collected by Tycho.\n"
   ]
  },
  {
   "cell_type": "code",
   "execution_count": 3,
   "metadata": {
    "id": "q3lG6Kle9KNp"
   },
   "outputs": [],
   "source": [
    "# Read in the Github data that will be used for the calculations.\n",
    "data1 = pd.read_csv(\"kepler-planetary-data.csv\")"
   ]
  },
  {
   "cell_type": "markdown",
   "metadata": {
    "id": "qtILmt8NZVbV"
   },
   "source": [
    "## Column Headings\n",
    "We need to use the <code>head()</code> command to take a peek at the data but also to know the names of the column headings so we access the data. When we load a datafile using <code>pandas</code>, the data is stored in a thing called a <code>DataFrame</code>. Here <code>data1</code> is a <code>DataFrame</code>."
   ]
  },
  {
   "cell_type": "code",
   "execution_count": 4,
   "metadata": {
    "colab": {
     "base_uri": "https://localhost:8080/",
     "height": 206
    },
    "executionInfo": {
     "elapsed": 8,
     "status": "ok",
     "timestamp": 1647452363365,
     "user": {
      "displayName": "BRIEF Boyce-Astro",
      "photoUrl": "https://lh3.googleusercontent.com/a/default-user=s64",
      "userId": "07837933066691915103"
     },
     "user_tz": 420
    },
    "id": "QquuPgqt9KNp",
    "outputId": "5f71dff8-6fa1-4847-ca96-e92934478786"
   },
   "outputs": [
    {
     "data": {
      "text/html": [
       "<div>\n",
       "<style scoped>\n",
       "    .dataframe tbody tr th:only-of-type {\n",
       "        vertical-align: middle;\n",
       "    }\n",
       "\n",
       "    .dataframe tbody tr th {\n",
       "        vertical-align: top;\n",
       "    }\n",
       "\n",
       "    .dataframe thead th {\n",
       "        text-align: right;\n",
       "    }\n",
       "</style>\n",
       "<table border=\"1\" class=\"dataframe\">\n",
       "  <thead>\n",
       "    <tr style=\"text-align: right;\">\n",
       "      <th></th>\n",
       "      <th>Semi Major Axis (AU)</th>\n",
       "      <th>Orbital Period (days)</th>\n",
       "    </tr>\n",
       "  </thead>\n",
       "  <tbody>\n",
       "    <tr>\n",
       "      <th>0</th>\n",
       "      <td>0.091</td>\n",
       "      <td>10.30375</td>\n",
       "    </tr>\n",
       "    <tr>\n",
       "      <th>1</th>\n",
       "      <td>0.106</td>\n",
       "      <td>13.02502</td>\n",
       "    </tr>\n",
       "    <tr>\n",
       "      <th>2</th>\n",
       "      <td>0.159</td>\n",
       "      <td>22.68719</td>\n",
       "    </tr>\n",
       "    <tr>\n",
       "      <th>3</th>\n",
       "      <td>0.194</td>\n",
       "      <td>31.99590</td>\n",
       "    </tr>\n",
       "    <tr>\n",
       "      <th>4</th>\n",
       "      <td>0.250</td>\n",
       "      <td>46.68876</td>\n",
       "    </tr>\n",
       "  </tbody>\n",
       "</table>\n",
       "</div>"
      ],
      "text/plain": [
       "   Semi Major Axis (AU)  Orbital Period (days)\n",
       "0                 0.091               10.30375\n",
       "1                 0.106               13.02502\n",
       "2                 0.159               22.68719\n",
       "3                 0.194               31.99590\n",
       "4                 0.250               46.68876"
      ]
     },
     "execution_count": 4,
     "metadata": {},
     "output_type": "execute_result"
    }
   ],
   "source": [
    "# We wish to look at the first 5 rows of our data set\n",
    "data1.head(5)"
   ]
  },
  {
   "cell_type": "markdown",
   "metadata": {
    "id": "i0clFzF7H2xs"
   },
   "source": [
    "A <code>DataFrame</code> is kind of like a spreadsheet. There are rows and columns of data so it is a 2d data structure."
   ]
  },
  {
   "cell_type": "code",
   "execution_count": 5,
   "metadata": {
    "colab": {
     "base_uri": "https://localhost:8080/"
    },
    "executionInfo": {
     "elapsed": 203,
     "status": "ok",
     "timestamp": 1647452363563,
     "user": {
      "displayName": "BRIEF Boyce-Astro",
      "photoUrl": "https://lh3.googleusercontent.com/a/default-user=s64",
      "userId": "07837933066691915103"
     },
     "user_tz": 420
    },
    "id": "S4gayXWq9KNp",
    "outputId": "cf9d374b-1304-45c1-e708-c0c69fdd372e"
   },
   "outputs": [
    {
     "data": {
      "text/plain": [
       "(6, 2)"
      ]
     },
     "execution_count": 5,
     "metadata": {},
     "output_type": "execute_result"
    }
   ],
   "source": [
    "# The .shape command displays the (number of rows , number of columns) in a file.\n",
    "data1.shape"
   ]
  },
  {
   "cell_type": "markdown",
   "metadata": {
    "id": "RfzuC0f29KNp",
    "tags": []
   },
   "source": [
    "# Task 2 - Plot Raw Data as a Scatter plot\n",
    "Let's get acquainted with this data set. Look at the cells above to find the answers to the following questions:\n",
    "- In the table above, what do you think each of the column headings represent?\n",
    "- How many planets are included in this data set?\n",
    "\n",
    "These lines store all the distances in AU in a list called <code>r_au</code> and all the periods in a list called <code>t_days</code>. Don't forget to run this block like the other blocks before this."
   ]
  },
  {
   "cell_type": "code",
   "execution_count": 6,
   "metadata": {
    "id": "1_gTK9FxK_WN"
   },
   "outputs": [],
   "source": [
    "r_au = np.array(data1['Semi Major Axis (AU)'])\n",
    "t_days = np.array(data1['Orbital Period (days)'])"
   ]
  },
  {
   "cell_type": "markdown",
   "metadata": {
    "id": "htdjMoxZaxOV"
   },
   "source": [
    "This is a very stripped down plot using <code>MatPlotLib</code>. You need to fix the title and the labels on the x- and y-axes."
   ]
  },
  {
   "cell_type": "code",
   "execution_count": 7,
   "metadata": {
    "colab": {
     "base_uri": "https://localhost:8080/",
     "height": 295
    },
    "executionInfo": {
     "elapsed": 557,
     "status": "ok",
     "timestamp": 1647452364118,
     "user": {
      "displayName": "BRIEF Boyce-Astro",
      "photoUrl": "https://lh3.googleusercontent.com/a/default-user=s64",
      "userId": "07837933066691915103"
     },
     "user_tz": 420
    },
    "id": "h-L2gXo79KNp",
    "outputId": "a99c5319-8fab-4761-e6f6-79eb197f161c"
   },
   "outputs": [
    {
     "data": {
      "image/png": "[encoded data removed]",
      "text/plain": [
       "<Figure size 640x480 with 1 Axes>"
      ]
     },
     "metadata": {},
     "output_type": "display_data"
    }
   ],
   "source": [
    "# plt is our plot object which handles plotting data\n",
    "# For physics and astronomy, you probably want a scatter plot\n",
    "\n",
    "# plt.scatter uses the 1st thing for the horizontal axis\n",
    "# and the 2nd thing for the vertical axis so (x,y)\n",
    "plt.plot(r_au, t_days)\n",
    "plt.scatter(r_au, t_days)\n",
    "plt.title(\"Distance (AU) vs Orbital Period\")\n",
    "plt.xlabel(\"Distance(AU)\")\n",
    "plt.ylabel(\"Period(Days)\");"
   ]
  },
  {
   "cell_type": "markdown",
   "metadata": {
    "id": "U7LaBcMw5v0K",
    "tags": []
   },
   "source": [
    "# Task 3 - Convert Distances and Times\n",
    "Convert the orbital radii from AU to meters using the constant above. Also convert the times from days into seconds. This is straightforward dimensional analysis."
   ]
  },
  {
   "cell_type": "code",
   "execution_count": 8,
   "metadata": {
    "id": "piMmulxkL1K4"
   },
   "outputs": [],
   "source": [
    "# Convert AU to m using one of the constants above\n",
    "r_m = r_au*d_au # Add code here\n",
    "\n",
    "# How many seconds are in a day?\n",
    "t_s = 24*60*60 # Add code here"
   ]
  },
  {
   "cell_type": "markdown",
   "metadata": {
    "id": "sVC5h1la5vfM",
    "tags": []
   },
   "source": [
    "# Task 4 - Linearize the Data and Scatter Plot it\n",
    "Using Kepler's 3rd law, linearize your data. Kepler's 3rd law:\n",
    "$$ t^2=\\frac{4\\pi^2}{GM}r^3 $$"
   ]
  },
  {
   "cell_type": "markdown",
   "metadata": {
    "id": "y3FV1CsFbUmB"
   },
   "source": [
    "Store the linearized distances in the list called <code>x</code> and the linearized times in the list called <code>y</code>. \n",
    "\n",
    "**This part is important! The data won't be linear if you don't apply the correct mathematical process to your various lists of data.**"
   ]
  },
  {
   "cell_type": "code",
   "execution_count": 17,
   "metadata": {
    "colab": {
     "base_uri": "https://localhost:8080/",
     "height": 131
    },
    "executionInfo": {
     "elapsed": 490,
     "status": "error",
     "timestamp": 1647452364602,
     "user": {
      "displayName": "BRIEF Boyce-Astro",
      "photoUrl": "https://lh3.googleusercontent.com/a/default-user=s64",
      "userId": "07837933066691915103"
     },
     "user_tz": 420
    },
    "id": "0kuccApsNVMC",
    "outputId": "53147d33-5212-47ba-d6c8-bd9b8a6e7a11"
   },
   "outputs": [],
   "source": [
    "# Hint: In Python, exponents work like this\n",
    "# a^2 (a squared) would be a**2\n",
    "x = r_m**3\n",
    "y = (t_days*t_s)**2"
   ]
  },
  {
   "cell_type": "code",
   "execution_count": 19,
   "metadata": {
    "id": "vMunIR5XNkQx"
   },
   "outputs": [
    {
     "data": {
      "image/png": "[encoded data removed]",
      "text/plain": [
       "<Figure size 640x480 with 1 Axes>"
      ]
     },
     "metadata": {},
     "output_type": "display_data"
    }
   ],
   "source": [
    "plt.scatter(x,y)\n",
    "plt.title(r'$P^2\\ vs\\ a^3$')\n",
    "plt.xlabel(r'$a^3$')\n",
    "plt.ylabel(r'$P^2$');"
   ]
  },
  {
   "cell_type": "markdown",
   "metadata": {
    "id": "stW4WSuYcSTe",
    "tags": []
   },
   "source": [
    "# Task 5 - Apply Linear Regression to get Slope of line\n",
    "This line of code uses our data in the lists x and y to find the various parameters for a linear regression. We ultimately only will need the slope here. Remember, a linear regression is asking how close to linear is the mathematical relationship between our x and y variables.\n",
    "\n",
    "For someone new to this python notation, the command (or method or function) called <code>linregress(...)</code> takes as one input our list of linearized distances as the list <code>x</code> and takes as the other input our list of linearized times as the list <code>y</code>. But it is all the stuff on the left of the <code>=</code> that's likely weird to you. The linregress command returns 5 things by default: the slope of our linear fit, the intercept of our linear fit, and some statistics about the quality of the fit. The *r*, *p*, and *standard error* values help us decide of the fit is trustworthy in a statical sense. We will ignore them here."
   ]
  },
  {
   "cell_type": "code",
   "execution_count": 20,
   "metadata": {
    "id": "gv4eOvWVPVZf"
   },
   "outputs": [],
   "source": [
    "# get coefficients of our linear fit\n",
    "slope, intercept, r_value, p_value, std_err = stats.linregress(x,y)"
   ]
  },
  {
   "cell_type": "markdown",
   "metadata": {
    "id": "vhipzmtHcfH3",
    "tags": []
   },
   "source": [
    "# Task 6 - Use Slope to find Mass of Central Star!\n",
    "By putting the linearized data in a new DataFrame, we can easily plot a linear regression using Seaborn. This is a common data science technique. "
   ]
  },
  {
   "cell_type": "code",
   "execution_count": 21,
   "metadata": {
    "id": "yQGwuHaozWUs"
   },
   "outputs": [
    {
     "data": {
      "text/html": [
       "<div>\n",
       "<style scoped>\n",
       "    .dataframe tbody tr th:only-of-type {\n",
       "        vertical-align: middle;\n",
       "    }\n",
       "\n",
       "    .dataframe tbody tr th {\n",
       "        vertical-align: top;\n",
       "    }\n",
       "\n",
       "    .dataframe thead th {\n",
       "        text-align: right;\n",
       "    }\n",
       "</style>\n",
       "<table border=\"1\" class=\"dataframe\">\n",
       "  <thead>\n",
       "    <tr style=\"text-align: right;\">\n",
       "      <th></th>\n",
       "      <th>r^3</th>\n",
       "      <th>t^2</th>\n",
       "    </tr>\n",
       "  </thead>\n",
       "  <tbody>\n",
       "    <tr>\n",
       "      <th>0</th>\n",
       "      <td>2.543302e+30</td>\n",
       "      <td>7.925344e+11</td>\n",
       "    </tr>\n",
       "    <tr>\n",
       "      <th>1</th>\n",
       "      <td>4.019679e+30</td>\n",
       "      <td>1.266439e+12</td>\n",
       "    </tr>\n",
       "    <tr>\n",
       "      <th>2</th>\n",
       "      <td>1.356642e+31</td>\n",
       "      <td>3.842279e+12</td>\n",
       "    </tr>\n",
       "    <tr>\n",
       "      <th>3</th>\n",
       "      <td>2.464217e+31</td>\n",
       "      <td>7.642160e+12</td>\n",
       "    </tr>\n",
       "    <tr>\n",
       "      <th>4</th>\n",
       "      <td>5.273438e+31</td>\n",
       "      <td>1.627242e+13</td>\n",
       "    </tr>\n",
       "    <tr>\n",
       "      <th>5</th>\n",
       "      <td>3.328126e+32</td>\n",
       "      <td>1.046086e+14</td>\n",
       "    </tr>\n",
       "  </tbody>\n",
       "</table>\n",
       "</div>"
      ],
      "text/plain": [
       "            r^3           t^2\n",
       "0  2.543302e+30  7.925344e+11\n",
       "1  4.019679e+30  1.266439e+12\n",
       "2  1.356642e+31  3.842279e+12\n",
       "3  2.464217e+31  7.642160e+12\n",
       "4  5.273438e+31  1.627242e+13\n",
       "5  3.328126e+32  1.046086e+14"
      ]
     },
     "execution_count": 21,
     "metadata": {},
     "output_type": "execute_result"
    }
   ],
   "source": [
    "# Make a new DataFrame and take a look at it.\n",
    "data2 = pd.DataFrame({'r^3':x, 't^2':y})\n",
    "\n",
    "# Most of time, in python, a variable by itself\n",
    "# like this just prints the contents of the variable.\n",
    "data2"
   ]
  },
  {
   "cell_type": "markdown",
   "metadata": {
    "id": "I88m3YWXJuiO"
   },
   "source": [
    "If you've done the rest of this process correctly, here you need to recognize which parts of Kepler's 3rd Law is the *slope* of our linear relationship. The slope of a line should a constant so which parts are constant here?\n",
    "$$ t^2=\\frac{4\\pi^2}{GM}r^3 $$\n",
    "\n",
    "Using the <code>slope</code> from the regression above, if you set the slope equal to the constants from Kepler's 3rd Law, rearrange algebraically (on paper likely) the expression such that you can find the mass of the star in the center of this exoplanet solar system.\n"
   ]
  },
  {
   "cell_type": "code",
   "execution_count": 22,
   "metadata": {
    "id": "A3SfsnYJwlJl"
   },
   "outputs": [
    {
     "name": "stdout",
     "output_type": "stream",
     "text": [
      "Mass of Central Star in the Kepler 11 System 1.881e+30 kg\n",
      "ratio of masses = 0.945\n"
     ]
    }
   ],
   "source": [
    "# Use the algebraically rearranged slope expression\n",
    "# to find the mass of the star in this system.\n",
    "m_star = (4*math.pi**2)/(G*slope)\n",
    "\n",
    "print(f'Mass of Central Star in the Kepler 11 System {m_star:1.3e} kg')\n",
    "\n",
    "# Find the ratio of this star's mass to that of the sun, given above.\n",
    "ratio = m_star / m_sun\n",
    "\n",
    "# Display the ratio.\n",
    "print(f'ratio of masses = {ratio:1.3f}')"
   ]
  },
  {
   "cell_type": "markdown",
   "metadata": {
    "tags": []
   },
   "source": [
    "# Task 6 - Calulate percent Error and create a Final Plot\n",
    "## Compare with actual result quoted in wikipedia\n",
    "[Kepler 11 System has a central star](https://en.wikipedia.org/wiki/Kepler-11b) with mass 0.95 * mass of our Sun"
   ]
  },
  {
   "cell_type": "code",
   "execution_count": 23,
   "metadata": {},
   "outputs": [
    {
     "name": "stdout",
     "output_type": "stream",
     "text": [
      "percent error in calculating mass of Kepler 11 central star is: 0.453% !!\n"
     ]
    }
   ],
   "source": [
    "percent_error = (m_sun*0.95 - m_star)/m_sun\n",
    "print(f'percent error in calculating mass of Kepler 11 central star is: {percent_error*100:1.3f}% !!')"
   ]
  },
  {
   "cell_type": "markdown",
   "metadata": {
    "id": "qUAGvQ7XLV6p"
   },
   "source": [
    "## Plot Linear Regression\n",
    "This last step uses the Seaborn library to plot linear regression and to overplot the data points. This is a very common visualization technique and allows for a visual confirmation of the relationship. Seaborn is not the only way to plot a linear regression but it is very popular and quite visually appealing."
   ]
  },
  {
   "cell_type": "code",
   "execution_count": 24,
   "metadata": {
    "id": "TS8L4GbdwvdV"
   },
   "outputs": [
    {
     "data": {
      "text/plain": [
       "<AxesSubplot:xlabel='r^3', ylabel='t^2'>"
      ]
     },
     "execution_count": 24,
     "metadata": {},
     "output_type": "execute_result"
    },
    {
     "data": {
      "image/png": "[encoded data removed]",
      "text/plain": [
       "<Figure size 640x480 with 1 Axes>"
      ]
     },
     "metadata": {},
     "output_type": "display_data"
    }
   ],
   "source": [
    "plt.scatter(x,y)\n",
    "sns.regplot(x=\"r^3\", y=\"t^2\", data=data2)"
   ]
  },
  {
   "cell_type": "code",
   "execution_count": null,
   "metadata": {},
   "outputs": [],
   "source": []
  }
 ],
 "metadata": {
  "anaconda-cloud": {},
  "colab": {
   "collapsed_sections": [],
   "name": "Kepler_Activity.ipynb",
   "provenance": [
    {
     "file_id": "1bYd8C31oRzTinq0-T6DiIMUV9NynDM1z",
     "timestamp": 1646600841741
    },
    {
     "file_id": "https://github.com/jimmynewland/colabnotebooks/blob/main/Keplers_3rd_Law_Activity.ipynb",
     "timestamp": 1644378382904
    }
   ]
  },
  "kernelspec": {
   "display_name": "Python 3 (ipykernel)",
   "language": "python",
   "name": "python3"
  },
  "language_info": {
   "codemirror_mode": {
    "name": "ipython",
    "version": 3
   },
   "file_extension": ".py",
   "mimetype": "text/x-python",
   "name": "python",
   "nbconvert_exporter": "python",
   "pygments_lexer": "ipython3",
   "version": "3.9.13"
  }
 },
 "nbformat": 4,
 "nbformat_minor": 4
}
