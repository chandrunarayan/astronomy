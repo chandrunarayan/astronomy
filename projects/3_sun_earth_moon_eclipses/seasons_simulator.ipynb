{
  "cells": [
    {
      "cell_type": "markdown",
      "source": [
        "# Earth Seasons and Sun Angle Calculations"
      ],
      "metadata": {},
      "id": "c27562e1-4d6c-4285-9190-6d6c417c73d9"
    },
    {
      "cell_type": "markdown",
      "source": [
        "![Screen Shot 2023-10-03 at 10.09.21 PM.png](attachment:3f324469-8d6d-401a-b49c-4714bcff0df2.png)"
      ],
      "metadata": {},
      "id": "e32cf0c6-50ac-4f50-a4c1-9bc8cf08f5b4"
    },
    {
      "cell_type": "markdown",
      "source": [
        "## TASK 1: Let's store the Lattitude and Longitude of Seattle below in decimal degrees for computing\n",
        "**Seattle Lattitude: 47° 36' 28.8468\" N**\n",
        "**Seattle Longitude: 122° 20' 6.6012\" W**\n",
        "- Note: North Latitudes are considered Positive and South Negative\n",
        "- Note: East Latitudes are considered Positive and West Negative"
      ],
      "metadata": {
        "tags": []
      },
      "id": "e2b8f8dd-e355-44a3-8fed-eb9d2481c15a"
    },
    {
      "cell_type": "code",
      "source": [
        "seattle_lattitude = 47 + 36/60 + 28.8468/(60*60)\n",
        "out = f'Seattle Lattitude = {seattle_lattitude:3.4f} degrees N'\n",
        "print(out)"
      ],
      "outputs": [
        {
          "output_type": "stream",
          "name": "stdout",
          "text": [
            "Seattle Lattitude = 47.6080 degrees N\n"
          ]
        }
      ],
      "execution_count": 7,
      "metadata": {},
      "id": "2ffa29b5-ca59-427c-b7ca-23c24327c821"
    },
    {
      "cell_type": "code",
      "source": [
        "# FIX THESE BELOW!!\n",
        "seattle_longitude = ??\n",
        "out = out = f'?? degrees W'\n",
        "print(out)"
      ],
      "outputs": [
        {
          "output_type": "error",
          "ename": "SyntaxError",
          "evalue": "invalid syntax (2494399369.py, line 2)",
          "traceback": [
            "\u001b[0;36m  Cell \u001b[0;32mIn [1], line 2\u001b[0;36m\u001b[0m\n\u001b[0;31m    seattle_longitude = ??\u001b[0m\n\u001b[0m                        ^\u001b[0m\n\u001b[0;31mSyntaxError\u001b[0m\u001b[0;31m:\u001b[0m invalid syntax\n"
          ]
        }
      ],
      "execution_count": 1,
      "metadata": {},
      "id": "c4a97600-7cfd-4a8b-b28e-7f84d5f43920"
    },
    {
      "cell_type": "markdown",
      "source": [
        "![Screen Shot 2023-10-03 at 10.27.01 PM.png](attachment:3f5c0961-a950-4947-a735-5cd85dbb4b07.png)"
      ],
      "metadata": {},
      "id": "14bc6f0e-a9f0-4018-99a7-cc865681f528"
    },
    {
      "cell_type": "markdown",
      "source": [
        "![Screen Shot 2023-10-03 at 11.09.01 PM.png](attachment:869682aa-287d-4ebe-992e-1923d4da68bb.png)"
      ],
      "metadata": {},
      "id": "13a505fb-4a0b-474b-88e8-ecc5b45707e2"
    },
    {
      "cell_type": "markdown",
      "source": [
        "## Let's calculate the altitude of the Sun above the horizon in Syenne at summer solstice June 21st\n",
        "### At summer solstice, Sun is directly overhead any city on the Tropic of Cancer like Syenne! in the Eratosthenes workshop!"
      ],
      "metadata": {},
      "id": "a864a896-15f1-43ad-bb75-278285059251"
    },
    {
      "cell_type": "markdown",
      "source": [
        "![IMG_9709.jpg](attachment:41157aed-2d36-4e31-9b35-6ee5091cb7a3.jpg)"
      ],
      "metadata": {},
      "id": "4c184116-3701-4651-bfe6-b2f9fcc6e427"
    },
    {
      "cell_type": "code",
      "source": [
        "# At summer solstice, Sun is directly overhead any city on the Tropic of Cancer (like Syenne! in the Eratosthenes workshop!)\n",
        "earth_axis_tilt = 23.5\n",
        "syenne_lattitude = 23.5\n",
        "sun_altitude_syenne = 90 - (syenne_lattitude - earth_axis_tilt)\n",
        "out = f'Sun Altitude Syenne = {sun_altitude_syenne} deg'\n",
        "print(out)"
      ],
      "outputs": [
        {
          "output_type": "stream",
          "name": "stdout",
          "text": [
            "Sun Altitude Syenne = 90.0 deg\n"
          ]
        }
      ],
      "execution_count": 10,
      "metadata": {},
      "id": "2ff0afec-977e-4103-8223-0f459b45d83d"
    },
    {
      "cell_type": "markdown",
      "source": [
        "## TASK 2: Let's calculate the altitude of the Sun above the horizon in Seattle (which is not on the Tropic of Cancer) at summer solstice June 21st"
      ],
      "metadata": {},
      "id": "171a1fd9-87d5-4439-a8a3-90901ef143a3"
    },
    {
      "cell_type": "code",
      "source": [
        "# Fix these below similat to previous calculation\n",
        "# Seattle Summer Solstice Sun Altitude Calculation\n",
        "sun_altitude_seattle = ????\n",
        "out = ????\n",
        "print(out)"
      ],
      "outputs": [
        {
          "output_type": "error",
          "ename": "SyntaxError",
          "evalue": "invalid syntax (1143634882.py, line 3)",
          "traceback": [
            "\u001b[0;36m  Cell \u001b[0;32mIn [2], line 3\u001b[0;36m\u001b[0m\n\u001b[0;31m    sun_altitude_seattle = ????\u001b[0m\n\u001b[0m                           ^\u001b[0m\n\u001b[0;31mSyntaxError\u001b[0m\u001b[0;31m:\u001b[0m invalid syntax\n"
          ]
        }
      ],
      "execution_count": 2,
      "metadata": {},
      "id": "b37dd5ff-afb4-4e35-80c5-dcbbb7c5076b"
    },
    {
      "cell_type": "markdown",
      "source": [
        "### TASK 3: Using the [Seasons Simulator linked here](https://astro.unl.edu/naap/motion1/animations/seasons_ecliptic.html) snapshot a picture of the summer solstice in the Northern hemisphere. Validate the computer Sun Altitude with your calculation above."
      ],
      "metadata": {},
      "id": "02931bd4-6703-4e14-acf5-3e561b9c2289"
    },
    {
      "cell_type": "markdown",
      "source": [
        "![Screen Shot 2023-10-03 at 11.47.32 PM.png](attachment:76f802be-4631-42f3-a5f9-6e4700271c63.png)"
      ],
      "metadata": {},
      "id": "ba560d78-7782-4d9f-96ed-141adbaf0b63"
    },
    {
      "cell_type": "markdown",
      "source": [
        "### TASK 4 a-f: Repeat tasks 2 & 3 above for:\n",
        "a. Seattle at Autumnal Equinox\n",
        "\n",
        "b. An Equatorial city of your choice at Autumnal Equinox\n",
        "\n",
        "c. Stockholm at Winter Solstice in the Northern Hemisphere\n",
        "\n",
        "d. Sydney at Winter Solstice in the Northern Hemisphere\n",
        "\n",
        "f. A city of your choice in the Tropic of Capricorn at Vernal Equinox\n",
        "\n"
      ],
      "metadata": {},
      "id": "75a5576d-701e-4849-9410-c2d23234feee"
    },
    {
      "cell_type": "code",
      "source": [],
      "outputs": [],
      "execution_count": null,
      "metadata": {},
      "id": "320eb6ad-08b4-4816-a429-d42a8a12e714"
    }
  ],
  "metadata": {
    "kernelspec": {
      "display_name": "Python 3 (ipykernel)",
      "language": "python",
      "name": "python3"
    },
    "language_info": {
      "codemirror_mode": {
        "name": "ipython",
        "version": 3
      },
      "file_extension": ".py",
      "mimetype": "text/x-python",
      "name": "python",
      "nbconvert_exporter": "python",
      "pygments_lexer": "ipython3",
      "version": "3.9.13"
    },
    "nteract": {
      "version": "0.28.0"
    }
  },
  "nbformat": 4,
  "nbformat_minor": 5
}