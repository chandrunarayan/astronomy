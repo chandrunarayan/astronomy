{
 "cells": [
  {
   "cell_type": "markdown",
   "id": "c27562e1-4d6c-4285-9190-6d6c417c73d9",
   "metadata": {},
   "source": [
    "## Earth Seasons and Sun Angle Calculations"
   ]
  }
 ],
 "metadata": {
  "kernelspec": {
   "display_name": "Python 3 (ipykernel)",
   "language": "python",
   "name": "python3"
  },
  "language_info": {
   "codemirror_mode": {
    "name": "ipython",
    "version": 3
   },
   "file_extension": ".py",
   "mimetype": "text/x-python",
   "name": "python",
   "nbconvert_exporter": "python",
   "pygments_lexer": "ipython3",
   "version": "3.9.13"
  }
 },
 "nbformat": 4,
 "nbformat_minor": 5
}
