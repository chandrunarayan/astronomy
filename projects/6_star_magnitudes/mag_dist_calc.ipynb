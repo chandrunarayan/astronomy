{
 "cells": [
  {
   "cell_type": "markdown",
   "id": "a4154a0c-20ae-4a06-9e39-dff595ddf7ce",
   "metadata": {},
   "source": [
    "# Review Magnitude and Distance/Parallax Formulas\n",
    "## 1. How to calculate Magnitudes when distance (in pc) is known\n",
    "### $$ \\boxed{m_{abs} = m_{app} - 5 \\times log_{10}(distance) + 5} $$\n",
    "## 2. How to calculate Magnitudes when parallax (in arc-sec) is known\n",
    "### $$ \\boxed{m_{abs} = m_{app} - 5 \\times log_{10}(1/parallax) + 5} $$\n",
    "## 3. How to calculate Distance (in pc) when apparent and absolute magnitudes are known\n",
    "### $$ \\boxed{distance = 10 * 10^{\\frac{m_{abs}-m_{app}}{5}}} $$"
   ]
  },
  {
   "cell_type": "markdown",
   "id": "d42938a8-7b57-48b0-ae97-2085a16b76f6",
   "metadata": {},
   "source": [
    "## Let's do some additional magnitude & distance problems\n",
    "1. Calculate the Vega's's Absolute Magnitude knowing it's Distance and Apparent Magnitude?\n",
    "1. Calculate the Deneb's Absolute Magnitude knowing it's Distance and Apparent Magnitude?\n",
    "1. What would be Deneb's Apparent magnitude from Earth if brought to the Sun's location?\n",
    "1. How much brighter would it be than the Sun?"
   ]
  },
  {
   "cell_type": "markdown",
   "id": "49b5601a-5617-48d1-940c-e2a4a043786e",
   "metadata": {},
   "source": [
    "### 1. Calculating Vega's Absolute Magnitude"
   ]
  },
  {
   "cell_type": "code",
   "execution_count": 1,
   "id": "93b2e3f8-6d66-438d-bcf3-a39e0d995506",
   "metadata": {},
   "outputs": [
    {
     "ename": "SyntaxError",
     "evalue": "invalid syntax (249541140.py, line 10)",
     "output_type": "error",
     "traceback": [
      "\u001b[0;36m  Cell \u001b[0;32mIn [1], line 10\u001b[0;36m\u001b[0m\n\u001b[0;31m    mapp_vega = ??  # Look up in sky safari or wikipedia\u001b[0m\n\u001b[0m                ^\u001b[0m\n\u001b[0;31mSyntaxError\u001b[0m\u001b[0;31m:\u001b[0m invalid syntax\n"
     ]
    }
   ],
   "source": [
    "import math\n",
    "au = 150e6 # Input here in KM\n",
    "au_m = au*1e3 # Calculate value of AU in meters\n",
    "light_speed = 300e6 # speed of light in meters per second (look up in Google)\n",
    "seconds_in_year = 365.25*24*60*60 # Calculate number of seconds in 1 year\n",
    "light_year_m = seconds_in_year*light_speed # Calculate meters in 1 light year basd on variables above\n",
    "au_in_light_year = light_year_m/au_m # Calculate au  in 1 light year basd on variables above\n",
    "ly_in_a_pc = 3.26 # light years in a parsec\n",
    "au_in_a_pc = au_in_light_year * ly_in_a_pc # Calculate number of AU in one Parsec using previously calculated 'au_in_light_year'\n",
    "mapp_vega = ??  # Look up in sky safari or wikipedia\n",
    "dist_vega = ?? # in ly - Look up in sky safari or wikipedia\n",
    "dist_vega_pc = ?? # convert to pc using ly_in_a_pc\n",
    "mabs_vega = ?? # type in formula from above using python syntax. hint: see star_plx_lum_mag.ipynb\n",
    "print(f\"Vega's Absolute Magnitude is: {mabs_vega:.2f}\") "
   ]
  },
  {
   "cell_type": "markdown",
   "id": "a08f3374-ceba-44e4-bef0-65b13b575cca",
   "metadata": {},
   "source": [
    "### 2. Calculating Deneb's Absolute Magnitude"
   ]
  },
  {
   "cell_type": "code",
   "execution_count": 2,
   "id": "f5910b99-b338-468f-8cbe-5ce0d36b02ba",
   "metadata": {},
   "outputs": [
    {
     "ename": "SyntaxError",
     "evalue": "invalid syntax (3610950988.py, line 1)",
     "output_type": "error",
     "traceback": [
      "\u001b[0;36m  Cell \u001b[0;32mIn [2], line 1\u001b[0;36m\u001b[0m\n\u001b[0;31m    mapp_deneb = ??  # Look up in sky safari or wikipedia\u001b[0m\n\u001b[0m                 ^\u001b[0m\n\u001b[0;31mSyntaxError\u001b[0m\u001b[0;31m:\u001b[0m invalid syntax\n"
     ]
    }
   ],
   "source": [
    "mapp_deneb = ??  # Look up in sky safari or wikipedia\n",
    "dist_deneb = ?? # in ly - Look up in sky safari or wikipedia\n",
    "dist_deneb_pc = ?? # convert to pc\n",
    "mabs_deneb = ?? # type in formula from above using python syntax. hint: see star_plx_lum_mag.ipynb\n",
    "print(f\"Deneb's Absolute Magnitude is: {mabs_deneb:.2f}\") "
   ]
  },
  {
   "cell_type": "markdown",
   "id": "6ecc7a4e-1e81-4938-ae36-25628bc9eded",
   "metadata": {},
   "source": [
    "### 3. Calculating Deneb's Apparent Magnitude at the distance of the Sun!\n",
    "### 4. Calculate how much brighter it is than the Sun"
   ]
  },
  {
   "cell_type": "code",
   "execution_count": 3,
   "id": "2cef9ec5-45d9-4746-a305-12e9005f5517",
   "metadata": {},
   "outputs": [
    {
     "ename": "SyntaxError",
     "evalue": "invalid syntax (2549349636.py, line 1)",
     "output_type": "error",
     "traceback": [
      "\u001b[0;36m  Cell \u001b[0;32mIn [3], line 1\u001b[0;36m\u001b[0m\n\u001b[0;31m    mapp_deneb_new = ??  # slight rearrangement of formula 1 will get you this!\u001b[0m\n\u001b[0m                     ^\u001b[0m\n\u001b[0;31mSyntaxError\u001b[0m\u001b[0;31m:\u001b[0m invalid syntax\n"
     ]
    }
   ],
   "source": [
    "dist_sun_pc = ? # first calculate dist sun in pc using au_in_a_pc\n",
    "mapp_deneb_new = ??  # slight rearrangement of formula 1 will get you this!\n",
    "print(f\"Deneb's Apparent Magnitude at the distance of the Sun is: {mapp_deneb_new:.2f}\") "
   ]
  },
  {
   "cell_type": "code",
   "execution_count": 4,
   "id": "dea77ece-9787-46d7-ab1e-bea8914038c7",
   "metadata": {},
   "outputs": [
    {
     "ename": "SyntaxError",
     "evalue": "invalid syntax (1936511829.py, line 1)",
     "output_type": "error",
     "traceback": [
      "\u001b[0;36m  Cell \u001b[0;32mIn [4], line 1\u001b[0;36m\u001b[0m\n\u001b[0;31m    mapp_sun = ?  # look this up\u001b[0m\n\u001b[0m               ^\u001b[0m\n\u001b[0;31mSyntaxError\u001b[0m\u001b[0;31m:\u001b[0m invalid syntax\n"
     ]
    }
   ],
   "source": [
    "mapp_sun = ?  # look this up\n",
    "mag_diff_sun_deneb = ? # subtract mapp_deneb_new from mapp_sun\n",
    "brightness_ratio = ?  # Multiply mag_diff_sun_deneb by the fifth root of 100!\n",
    "print(f\"Deneb is brighter than the Sun by {brightness_ratio:.0f} times!!!\") "
   ]
  },
  {
   "cell_type": "code",
   "execution_count": null,
   "id": "6408b2ae-deab-40b4-b9da-2b6d044e4725",
   "metadata": {},
   "outputs": [],
   "source": []
  }
 ],
 "metadata": {
  "kernelspec": {
   "display_name": "Python 3 (ipykernel)",
   "language": "python",
   "name": "python3"
  },
  "language_info": {
   "codemirror_mode": {
    "name": "ipython",
    "version": 3
   },
   "file_extension": ".py",
   "mimetype": "text/x-python",
   "name": "python",
   "nbconvert_exporter": "python",
   "pygments_lexer": "ipython3",
   "version": "3.9.13"
  }
 },
 "nbformat": 4,
 "nbformat_minor": 5
}
