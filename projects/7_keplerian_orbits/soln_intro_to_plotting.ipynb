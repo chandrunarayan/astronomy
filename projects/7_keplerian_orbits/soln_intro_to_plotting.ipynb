{
 "cells": [
  {
   "cell_type": "markdown",
   "id": "59e437c9-1095-4fbb-9c34-5e96c4e5c8c8",
   "metadata": {},
   "source": [
    "## Intro to Python NumPy Arrays Loops Plotting"
   ]
  },
  {
   "cell_type": "markdown",
   "id": "2f2e2477-5d9b-4529-8f3e-9aff9156c6ba",
   "metadata": {
    "tags": []
   },
   "source": [
    "### 1. Import Libraries"
   ]
  },
  {
   "cell_type": "code",
   "execution_count": null,
   "id": "b566343b-2bed-4c30-9033-dc07ba243581",
   "metadata": {},
   "outputs": [],
   "source": [
    "import numpy as np\n",
    "import matplotlib.pyplot as plt\n",
    "%matplotlib inline"
   ]
  },
  {
   "cell_type": "markdown",
   "id": "8c1e94f5-bfa7-4c1f-bd8d-3722595fbda9",
   "metadata": {
    "tags": []
   },
   "source": [
    "### 2. Create, loop through numpy arrays and print values from them\n",
    "- print all values using a simple for loop\n",
    "- print all values using a list comprehension\n",
    "- print conditional values using a list comprehension"
   ]
  },
  {
   "cell_type": "code",
   "execution_count": null,
   "id": "1ebee019-5f10-4b7e-9a77-0ff3f9198b8f",
   "metadata": {},
   "outputs": [],
   "source": [
    "# print all values using a simple for loop\n",
    "print(\"print the list of values\")\n",
    "x = np.arange(0,7,1)\n",
    "print(x)\n",
    "print()\n",
    "print(\"print all values using a simple for loop\")\n",
    "for i in x:\n",
    "    print(x[i])\n",
    "print()\n",
    "\n",
    "print(\"print some values using a simple for loop\")\n",
    "for i in x:\n",
    "    if (x[i] == 5):\n",
    "        print(f\"loop skipped index {i} ..\")\n",
    "        continue\n",
    "    print((x[i])**2)\n",
    "print(f\"loop exited after index {i} ..\")\n",
    "print()\n",
    "\n",
    "# print all values using a list comprehension\n",
    "print(\"print all values using a list comprehension\")\n",
    "y = [i for i in x]\n",
    "print(y)\n",
    "print()\n",
    "\n",
    "# print conditional values (only evens) using a list comprehension\n",
    "print(\"print conditional values (only evens) using a list comprehension\")\n",
    "y = [i for i in x if i % 2 == 0]\n",
    "print(y)\n",
    "print()\n",
    "\n",
    "# print conditional values (only odds) using a list comprehension\n",
    "print(\"print conditional values (only odds) using a list comprehension\")\n",
    "y = [i for i in x if i % 2 != 0]\n",
    "print(y)\n",
    "print()"
   ]
  },
  {
   "cell_type": "markdown",
   "id": "8e7f0c16-f2b0-4c30-8b78-35b6763a7be5",
   "metadata": {
    "tags": []
   },
   "source": [
    "### 3. Create Line & Scatter Plots of Dependent Variables\n",
    "1. A Straight Line $ y = 5x  $\n",
    "1. A Sine Curve $ y = \\sin x $\n",
    "1. A Sine Curve with linspace()\n",
    "1. A Parabola $ y = x^2 $\n"
   ]
  },
  {
   "cell_type": "code",
   "execution_count": null,
   "id": "14573d77-7c22-476c-b430-2abc51c6a7fe",
   "metadata": {
    "tags": []
   },
   "outputs": [],
   "source": [
    "x = np.arange(0, 5+1, 1)\n",
    "y = 5*x\n",
    "print(x)\n",
    "print(y)\n",
    "plt.plot(x,y)\n",
    "plt.title(\"A Straight line\")"
   ]
  },
  {
   "cell_type": "code",
   "execution_count": null,
   "id": "664b9181-343e-4008-900c-b22e95af3819",
   "metadata": {
    "tags": []
   },
   "outputs": [],
   "source": [
    "x = np.arange(0, 2*np.pi, 1)\n",
    "y = np.sin(x)\n",
    "print(x)\n",
    "print(y)\n",
    "plt.plot(x,y)\n",
    "plt.title(\"A Sine Curve\")\n",
    "plt.xlabel(\"x in radians\")\n",
    "plt.ylabel(\"$ y = \\sin x $\")"
   ]
  },
  {
   "cell_type": "code",
   "execution_count": null,
   "id": "1ddf797b-d6dc-4be8-930e-331aa9364db4",
   "metadata": {
    "tags": []
   },
   "outputs": [],
   "source": [
    "x = np.linspace(0, 2*np.pi, 100)\n",
    "y = np.sin(x)\n",
    "print(x)\n",
    "print(y)\n",
    "plt.plot(x,y)\n",
    "plt.title(\"A Sine Curve\")\n",
    "plt.xlabel(\"$x \\ in \\ radians$\")\n",
    "plt.ylabel(\"$ y = \\sin x $\")"
   ]
  },
  {
   "cell_type": "code",
   "execution_count": null,
   "id": "ec5ecc62-6356-4b4a-bb7d-aeb2a7f74964",
   "metadata": {
    "tags": []
   },
   "outputs": [],
   "source": [
    "x = np.linspace(-10, 10, 100)\n",
    "y = x**2\n",
    "print(x)\n",
    "print(y)\n",
    "plt.plot(x,y)\n",
    "plt.title(\"A Parabola\")\n",
    "plt.xlabel(\"$ x $\")\n",
    "plt.ylabel(\"$ y = x^2 $\")"
   ]
  },
  {
   "cell_type": "code",
   "execution_count": null,
   "id": "79a401bd-2f28-4da5-8c84-99f48e8abc71",
   "metadata": {},
   "outputs": [],
   "source": [
    "x = np.linspace(-10, 10, 20)\n",
    "y = x**2\n",
    "print(x)\n",
    "print(y)\n",
    "plt.plot(x,y)\n",
    "plt.title(\"A Parabola\")\n",
    "plt.xlabel(\"$ x $\")\n",
    "plt.ylabel(\"$ y = x^2 $\")\n",
    "plt.scatter(x,y, marker='o', color='red')\n",
    "plt.text(-5,60,\"a nice parabola with dots!\")"
   ]
  },
  {
   "cell_type": "markdown",
   "id": "f1a00705-b95a-4fc5-a6a1-6a792fa6a4b0",
   "metadata": {
    "tags": []
   },
   "source": [
    "### 4. Create Line & Scatter Plots of Independent (Parametric) Variables\n",
    "1. A Circle:   $x = r \\ \\cos \\ \\theta$ and $y = r \\ \\sin \\ \\theta$ where $r$ is radius\n",
    "1. An Ellipse: $x = a \\ \\cos \\ \\theta$ and $y = b \\ \\sin \\ \\theta$ where $a$ is semi-major axis and $b$ is semi-minor axis "
   ]
  },
  {
   "cell_type": "code",
   "execution_count": null,
   "id": "e7811187-e539-40c7-ade4-92311f5ee62d",
   "metadata": {},
   "outputs": [],
   "source": [
    "r = 5 # radius\n",
    "t = np.linspace(0, 2*np.pi, 100)\n",
    "def xval(t):\n",
    "    return r * np.cos(t)\n",
    "def yval(t):\n",
    "    return r * np.sin(t)"
   ]
  },
  {
   "cell_type": "code",
   "execution_count": null,
   "id": "0e10dc56-61dc-4027-b763-97650acc644a",
   "metadata": {},
   "outputs": [],
   "source": [
    "x = xval(t)\n",
    "y = yval(t)\n",
    "plt.gca().set_aspect('equal')\n",
    "plt.plot(x,y)\n",
    "plt.title(\"A Circle\")\n",
    "plt.xlabel(\"$x = r \\ \\cos \\ \\\\theta$\")\n",
    "plt.ylabel(\"$y = r \\ \\sin \\ \\\\theta$\")\n",
    "plt.scatter(0,0,marker='+',color='red')"
   ]
  },
  {
   "cell_type": "code",
   "execution_count": null,
   "id": "d893147d-3ab1-4eef-a417-defcacc9a585",
   "metadata": {},
   "outputs": [],
   "source": [
    "a = 5 # semi-major axis\n",
    "b = 3 # semi-minor axis\n",
    "c = (a**2-b**2)**0.5 # semi-focal distance\n",
    "e = c/a # eccentricity\n",
    "t = np.linspace(0, 2*np.pi, 100)\n",
    "def xval(t):\n",
    "    return a * np.cos(t)\n",
    "def yval(t):\n",
    "    return b * np.sin(t)"
   ]
  },
  {
   "cell_type": "code",
   "execution_count": null,
   "id": "cd3bd2b6-1ef1-40ab-a854-f8167a1f0c6b",
   "metadata": {},
   "outputs": [],
   "source": [
    "x = xval(t)\n",
    "y = yval(t)\n",
    "plt.gca().set_aspect('equal')\n",
    "plt.plot(x,y,color='black')\n",
    "plt.title(\"An Ellipse\")\n",
    "plt.xlabel(\"$x = r \\ \\cos \\ \\\\theta$\")\n",
    "plt.ylabel(\"$y = r \\ \\sin \\ \\\\theta$\")\n",
    "plt.scatter(-c,0,marker='o',color='orange',s=500)\n",
    "p = np.linspace(np.pi/2, 3*np.pi/2, 20)\n",
    "plt.scatter(xval(p),yval(p),marker='o',color='purple')\n",
    "plt.text(-2,0,\"Sun with a Planet in Elliptical Orbit!\")"
   ]
  }
 ],
 "metadata": {
  "kernelspec": {
   "display_name": "Python 3 (ipykernel)",
   "language": "python",
   "name": "python3"
  },
  "language_info": {
   "codemirror_mode": {
    "name": "ipython",
    "version": 3
   },
   "file_extension": ".py",
   "mimetype": "text/x-python",
   "name": "python",
   "nbconvert_exporter": "python",
   "pygments_lexer": "ipython3",
   "version": "3.9.13"
  }
 },
 "nbformat": 4,
 "nbformat_minor": 5
}
