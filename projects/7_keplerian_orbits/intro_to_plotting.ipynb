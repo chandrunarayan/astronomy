{
 "cells": [
  {
   "cell_type": "markdown",
   "id": "59e437c9-1095-4fbb-9c34-5e96c4e5c8c8",
   "metadata": {},
   "source": [
    "## Intro to Python NumPy Arrays Loops Plotting"
   ]
  },
  {
   "cell_type": "markdown",
   "id": "2f2e2477-5d9b-4529-8f3e-9aff9156c6ba",
   "metadata": {
    "tags": []
   },
   "source": [
    "### 1. Import Libraries"
   ]
  },
  {
   "cell_type": "code",
   "execution_count": 1,
   "id": "b566343b-2bed-4c30-9033-dc07ba243581",
   "metadata": {},
   "outputs": [],
   "source": [
    "import numpy as np\n",
    "import matplotlib.pyplot as plt\n",
    "%matplotlib inline"
   ]
  },
  {
   "cell_type": "code",
   "execution_count": null,
   "id": "dab4de2c-ad88-4606-9177-b5d221ba5fd2",
   "metadata": {},
   "outputs": [],
   "source": []
  },
  {
   "cell_type": "markdown",
   "id": "8c1e94f5-bfa7-4c1f-bd8d-3722595fbda9",
   "metadata": {
    "tags": []
   },
   "source": [
    "### 2. Create and loop through numpy arrays"
   ]
  },
  {
   "cell_type": "code",
   "execution_count": null,
   "id": "bea435f0-4a5a-4357-9623-1f05fad39624",
   "metadata": {},
   "outputs": [],
   "source": []
  },
  {
   "cell_type": "markdown",
   "id": "8e7f0c16-f2b0-4c30-8b78-35b6763a7be5",
   "metadata": {
    "tags": []
   },
   "source": [
    "### 3. Create Line & Scatter Plots of Dependent Variables\n",
    "1. A Straight Line $ y = 5x  $\n",
    "1. A Sine Curve $ y = \\sin x $\n",
    "1. A Sine Curve with linspace()\n",
    "1. A Parabola $ y = x^2 $\n"
   ]
  },
  {
   "cell_type": "code",
   "execution_count": null,
   "id": "4fd0e65b-28e7-4491-8f4a-5bd82ee47c50",
   "metadata": {},
   "outputs": [],
   "source": []
  },
  {
   "cell_type": "markdown",
   "id": "f1a00705-b95a-4fc5-a6a1-6a792fa6a4b0",
   "metadata": {
    "tags": []
   },
   "source": [
    "### 4. Create Line & Scatter Plots of Independent (Parametric) Variables\n",
    "1. A Circle:   $x = r \\ \\cos \\ \\theta$ and $y = r \\ \\sin \\ \\theta$ where $r$ is radius\n",
    "1. An Ellipse: $x = a \\ \\cos \\ \\theta$ and $y = b \\ \\sin \\ \\theta$ where $a$ is semi-major axis and $b$ is semi-minor axis "
   ]
  },
  {
   "cell_type": "code",
   "execution_count": null,
   "id": "918956f9-ad55-4d6d-8417-114bc62ed9ee",
   "metadata": {},
   "outputs": [],
   "source": []
  }
 ],
 "metadata": {
  "kernelspec": {
   "display_name": "Python 3 (ipykernel)",
   "language": "python",
   "name": "python3"
  },
  "language_info": {
   "codemirror_mode": {
    "name": "ipython",
    "version": 3
   },
   "file_extension": ".py",
   "mimetype": "text/x-python",
   "name": "python",
   "nbconvert_exporter": "python",
   "pygments_lexer": "ipython3",
   "version": "3.9.13"
  }
 },
 "nbformat": 4,
 "nbformat_minor": 5
}
