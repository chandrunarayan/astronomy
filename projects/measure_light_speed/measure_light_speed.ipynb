{
 "cells": [
  {
   "cell_type": "markdown",
   "id": "d250e1f6-3e8f-4734-94bf-2a75c6460bb7",
   "metadata": {},
   "source": [
    "# Walking in Ole Romer's footsteps to measure the speed of Light!"
   ]
  },
  {
   "cell_type": "code",
   "execution_count": null,
   "id": "8f94a372-e6c3-4472-a861-4bac345f548f",
   "metadata": {},
   "outputs": [],
   "source": []
  }
 ],
 "metadata": {
  "kernelspec": {
   "display_name": "Python 3 (ipykernel)",
   "language": "python",
   "name": "python3"
  },
  "language_info": {
   "codemirror_mode": {
    "name": "ipython",
    "version": 3
   },
   "file_extension": ".py",
   "mimetype": "text/x-python",
   "name": "python",
   "nbconvert_exporter": "python",
   "pygments_lexer": "ipython3",
   "version": "3.9.13"
  }
 },
 "nbformat": 4,
 "nbformat_minor": 5
}
